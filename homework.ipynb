{
 "cells": [
  {
   "cell_type": "markdown",
   "id": "a43ace30",
   "metadata": {},
   "source": [
    "# Read the data"
   ]
  },
  {
   "cell_type": "code",
   "execution_count": 40,
   "id": "b1301a50",
   "metadata": {},
   "outputs": [
    {
     "name": "stdout",
     "output_type": "stream",
     "text": [
      "   agelevel  income student     credit BuyComputer    cls\n",
      "0     youth    high      no       fair          no  train\n",
      "1     youth    high      no  excellent          no  train\n",
      "2    middle    high      no       fair         yes  train\n",
      "3    senior  medium      no       fair         yes  train\n",
      "4    senior     low     yes       fair         yes  train\n",
      "5    senior     low     yes  excellent          no  train\n",
      "6    middle     low     yes  excellent         yes  train\n",
      "7     youth  medium      no       fair          no  train\n",
      "8     youth     low     yes       fair         yes  train\n",
      "9    senior  medium     yes       fair         yes  train\n",
      "10    youth  medium     yes  excellent         yes  train\n",
      "11   middle  medium      no  excellent         yes  train\n",
      "12   middle    high     yes       fair         yes  train\n",
      "13   senior  medium      no  excellent          no  train\n",
      "0     youth  medium     yes       fair          no   test\n"
     ]
    }
   ],
   "source": [
    "import pandas as pd\n",
    "# Read training & test data from csv \n",
    "df_train = pd.read_csv('buyComputer.csv')\n",
    "df_train['cls'] = 'train'\n",
    "df_test = pd.read_csv('buyComputer_test.csv')\n",
    "df_test['cls'] = 'test'\n",
    "# ==================================================================================================\n",
    "\n",
    "df_data = pd.concat([ df_train, df_test ])\n",
    "print (df_data)"
   ]
  },
  {
   "cell_type": "markdown",
   "id": "00b3f1a8",
   "metadata": {},
   "source": [
    "# Pre-process the data"
   ]
  },
  {
   "cell_type": "code",
   "execution_count": 41,
   "id": "6ad7ccf6",
   "metadata": {},
   "outputs": [],
   "source": [
    "from sklearn.preprocessing import LabelEncoder\n",
    "labelencoder = LabelEncoder()\n",
    "\n",
    "df_data['agelevel'] = labelencoder.fit_transform(df_data['agelevel'])\n",
    "df_data['income'] = labelencoder.fit_transform(df_data['income'])\n",
    "df_data['student'] = labelencoder.fit_transform(df_data['student'])\n",
    "df_data['credit'] = labelencoder.fit_transform(df_data['credit'])\n",
    "df_data['BuyComputer'] = labelencoder.fit_transform(df_data['BuyComputer'])"
   ]
  },
  {
   "cell_type": "markdown",
   "id": "22fa5954",
   "metadata": {},
   "source": [
    "# Split into train / test Data Sets"
   ]
  },
  {
   "cell_type": "code",
   "execution_count": 43,
   "id": "e8b9d75e",
   "metadata": {},
   "outputs": [],
   "source": [
    "df_train = df_data[df_data['cls'] == 'train'].drop(['cls'], axis = 1)\n",
    "df_test = df_data[df_data['cls'] == 'test'].drop(['cls'], axis = 1)\n",
    "\n",
    "y_train = df_train['BuyComputer']\n",
    "X_train = df_train.drop(['BuyComputer'], axis = 1)\n",
    "\n",
    "y_test = df_test['BuyComputer']\n",
    "X_test = df_test.drop(['BuyComputer'], axis = 1)"
   ]
  },
  {
   "cell_type": "markdown",
   "id": "f6350eac",
   "metadata": {},
   "source": [
    "# Standardizing the data"
   ]
  },
  {
   "cell_type": "code",
   "execution_count": 44,
   "id": "3d7fdda1",
   "metadata": {},
   "outputs": [],
   "source": [
    "from sklearn.preprocessing import StandardScaler\n",
    "\n",
    "sc = StandardScaler()\n",
    "sc.fit(X_train)\n",
    "X_train_std = sc.transform(X_train)\n",
    "X_test_std = sc.transform(X_test)"
   ]
  },
  {
   "cell_type": "markdown",
   "id": "41490978",
   "metadata": {},
   "source": [
    "# Training Data & Predict"
   ]
  },
  {
   "cell_type": "code",
   "execution_count": 45,
   "id": "6ac3cd1d",
   "metadata": {},
   "outputs": [
    {
     "name": "stdout",
     "output_type": "stream",
     "text": [
      "Misclassified samples: 1\n",
      "測試資料的準確率: 0.00\n"
     ]
    }
   ],
   "source": [
    "# 開始訓練\n",
    "from sklearn.tree import DecisionTreeClassifier\n",
    "model = DecisionTreeClassifier(criterion='entropy', max_depth=5, random_state=0)\n",
    "model.fit(X_train, y_train)\n",
    "\n",
    "# 預測\n",
    "y_pred = model.predict(X_test)\n",
    "print('Misclassified samples: %d' % (y_test != y_pred).sum())\n",
    "y_pred\n",
    "\n",
    "# 預測結果  1: 代表會買; 0: 代表不會買\n",
    "from sklearn.metrics import accuracy_score\n",
    "print('測試資料的準確率: %.2f' % accuracy_score(y_test, y_pred))"
   ]
  },
  {
   "cell_type": "markdown",
   "id": "dc2d83cc",
   "metadata": {},
   "source": [
    "# 畫圖\n",
    "\n",
    "到 http://www.graphviz.org/download/ 下載並安裝 graphviz 即可 "
   ]
  },
  {
   "cell_type": "code",
   "execution_count": 1,
   "id": "fcf66b77",
   "metadata": {},
   "outputs": [
    {
     "ename": "NameError",
     "evalue": "name 'model' is not defined",
     "output_type": "error",
     "traceback": [
      "\u001b[1;31m---------------------------------------------------------------------------\u001b[0m",
      "\u001b[1;31mNameError\u001b[0m                                 Traceback (most recent call last)",
      "Input \u001b[1;32mIn [1]\u001b[0m, in \u001b[0;36m<cell line: 4>\u001b[1;34m()\u001b[0m\n\u001b[0;32m      2\u001b[0m \u001b[38;5;28;01mfrom\u001b[39;00m \u001b[38;5;21;01msklearn\u001b[39;00m\u001b[38;5;21;01m.\u001b[39;00m\u001b[38;5;21;01mtree\u001b[39;00m \u001b[38;5;28;01mimport\u001b[39;00m export_graphviz\n\u001b[0;32m      3\u001b[0m A\u001b[38;5;241m=\u001b[39m[\u001b[38;5;124m'\u001b[39m\u001b[38;5;124mno\u001b[39m\u001b[38;5;124m'\u001b[39m, \u001b[38;5;124m'\u001b[39m\u001b[38;5;124myes\u001b[39m\u001b[38;5;124m'\u001b[39m]\n\u001b[1;32m----> 4\u001b[0m export_graphviz(\u001b[43mmodel\u001b[49m, \n\u001b[0;32m      5\u001b[0m                 out_file\u001b[38;5;241m=\u001b[39m\u001b[38;5;124m'\u001b[39m\u001b[38;5;124mtree.dot\u001b[39m\u001b[38;5;124m'\u001b[39m, \n\u001b[0;32m      6\u001b[0m                 feature_names\u001b[38;5;241m=\u001b[39m[\u001b[38;5;124m'\u001b[39m\u001b[38;5;124magelevel\u001b[39m\u001b[38;5;124m'\u001b[39m, \u001b[38;5;124m'\u001b[39m\u001b[38;5;124mincome\u001b[39m\u001b[38;5;124m'\u001b[39m, \u001b[38;5;124m'\u001b[39m\u001b[38;5;124mstudent\u001b[39m\u001b[38;5;124m'\u001b[39m, \u001b[38;5;124m'\u001b[39m\u001b[38;5;124mcredit\u001b[39m\u001b[38;5;124m'\u001b[39m], \n\u001b[0;32m      7\u001b[0m                 class_names\u001b[38;5;241m=\u001b[39mA, \n\u001b[0;32m      8\u001b[0m                 rounded \u001b[38;5;241m=\u001b[39m \u001b[38;5;28;01mTrue\u001b[39;00m, \n\u001b[0;32m      9\u001b[0m                 proportion \u001b[38;5;241m=\u001b[39m\u001b[38;5;28;01mFalse\u001b[39;00m, precision \u001b[38;5;241m=\u001b[39m \u001b[38;5;241m2\u001b[39m, filled \u001b[38;5;241m=\u001b[39m \u001b[38;5;28;01mTrue\u001b[39;00m)\n",
      "\u001b[1;31mNameError\u001b[0m: name 'model' is not defined"
     ]
    }
   ],
   "source": [
    "# 產生 tree.dot 檔\n",
    "from sklearn.tree import export_graphviz\n",
    "A=['no', 'yes']\n",
    "export_graphviz(model, \n",
    "                out_file='tree.dot', \n",
    "                feature_names=['agelevel', 'income', 'student', 'credit'], \n",
    "                class_names=A, \n",
    "                rounded = True, \n",
    "                proportion =False, precision = 2, filled = True)"
   ]
  },
  {
   "cell_type": "code",
   "execution_count": 88,
   "id": "a144eba1",
   "metadata": {},
   "outputs": [],
   "source": [
    "#!pip install graphviz"
   ]
  },
  {
   "cell_type": "markdown",
   "id": "d82820e2",
   "metadata": {},
   "source": [
    "產生 tree.dot 檔後，開啟「命令提示字元」\n",
    "輸入以下命令，產生 tree.png  \n",
    "\n",
    "``` \n",
    "dot -Tpng .\\tree.dot -o tree.png\n",
    "```"
   ]
  }
 ],
 "metadata": {
  "kernelspec": {
   "display_name": "Python 3 (ipykernel)",
   "language": "python",
   "name": "python3"
  },
  "language_info": {
   "codemirror_mode": {
    "name": "ipython",
    "version": 3
   },
   "file_extension": ".py",
   "mimetype": "text/x-python",
   "name": "python",
   "nbconvert_exporter": "python",
   "pygments_lexer": "ipython3",
   "version": "3.9.12"
  }
 },
 "nbformat": 4,
 "nbformat_minor": 5
}
